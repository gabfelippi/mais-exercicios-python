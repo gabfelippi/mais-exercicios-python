{
 "cells": [
  {
   "cell_type": "markdown",
   "metadata": {},
   "source": [
    "### 1\n",
    "Escreva um trecho de código Python que solicite três frases ao usuário. **Para cada uma das frases, contar a frequência das palavras que a compõem a frase.** Não é necessário considerar diferenças entre letras maiúsculas e minúsculas (ou seja, pode considerar que Oi' = 'oi'). Você pode usar o método _casefold()_ ou _lower()_ ou outro qualquer para padronizar. Cuidado na lida com as strings, pois \"oi.\" é considerada diferente de \"oi \" ou \"oi?\", por exemplo. Apresentar na tela cada uma das palavras identificadas e suas respectivas frequências (para cada frase). Pode escolher o formato de separação que acharem mais conveniente (palavras separadas apenas por espaço, por exemplo). É **desnecessário** fazer qualquer tratamento envolvendo sinais de pontuação.\n",
    "\n",
    "Dicas:\n",
    "- pode usar o _split()_ para separar as strings em cada input feito. O split pode ser usado escolhendo um separador de sua escolha (espaço, ponto, vírgula, etc).\n",
    "- Daí podem usar o casefold() sobre esse split(). Jogando todas as letras da palavra para minúsculo.\n"
   ]
  },
  {
   "cell_type": "code",
   "execution_count": null,
   "metadata": {},
   "outputs": [],
   "source": [
    "a, b, c = str(input(\"Insira uma frase: \")), str(input(\"Insira outra frase: \")), str(input(\"Insira mais uma frase: \"))\n",
    "\n",
    "def contar(x):\n",
    "    x1 = x.casefold().split()\n",
    "    contador = []\n",
    "    print(f'Na frase \"{x}\":')\n",
    "    for i in range(len(x1)):\n",
    "        if not x1[i] in contador:\n",
    "            contador.append(x1[i])\n",
    "            print(f'A palavra \"{x1[i]}\" aparece {x1.count(x1[i])} vez(es).')\n",
    "\n",
    "contar(a)\n",
    "contar(b)\n",
    "contar(c)"
   ]
  },
  {
   "cell_type": "markdown",
   "metadata": {},
   "source": [
    "### 2\n",
    "Escreva um trecho de código Python que solicite três **_strings_** ao usuário (um input para cada string). Para cada uma dessas entradas o usuário poderá fornecer ou números inteiros ou número de ponto flutuante (números reais separados com casas decimais após o '.' Exemplo, número '2.45'). **Deve ser possível entrar com mais de um número para cada entrada de dados (os números devem ser separados por espaço).** Exemplo: 3 2.14 14 88 9.32\n",
    "\n",
    "Crie duas funções, uma chamada `ordena_crescente` e outra chamada `ordena_decrescente`. Ambas as funções devem retornar as strings acima mencionadas (as strings que foram entradas pelo usuário) de maneira crescente e de maneira decrescente respectivamente. Dica: para facilitar sua vida use o método `sort` para ordenar.\n",
    "\n",
    "Construa um código Pyhton que:\n",
    "1. Ordene os números de forma crescente (chamando a função e passando o devido parâmetro)\n",
    "2. Imprima na tela (**fora da função**)\n",
    "3. Ordene os números de forma decrescente (chamando a função e passando o devido parâmetro)\n",
    "4. Imprima na tela (**fora da função**)"
   ]
  },
  {
   "cell_type": "code",
   "execution_count": null,
   "metadata": {},
   "outputs": [],
   "source": [
    "a = (input(\"Insira uma sequência de números separados por espaço e utilize ponto para separar decimais: \"))\n",
    "b = (input(\"Insira outra sequência de números separados por espaço e utilize ponto para separar decimais: \"))\n",
    "c = (input(\"Insira mais uma sequência de números separados por espaço e utilize ponto para separar decimais: \"))\n",
    "\n",
    "def ordena_crescente(x):\n",
    "    x = x.split()\n",
    "    x.sort()\n",
    "    return \", \".join(str(i) for i in x)\n",
    "\n",
    "print(f'Ordem crescente: {ordena_crescente(a)}; {ordena_crescente(b)}; {ordena_crescente(c)}.')\n",
    "\n",
    "def ordena_descescente(x):\n",
    "    x = x.split()\n",
    "    x.sort(reverse=True)\n",
    "    return \", \".join(str(i) for i in x)\n",
    "\n",
    "print(f'Ordem decrescente: {ordena_descescente(a)}; {ordena_descescente(b)}; {ordena_descescente(c)}.')"
   ]
  },
  {
   "cell_type": "markdown",
   "metadata": {},
   "source": [
    "### 3\n",
    "**Escreva uma função** Python chamada `dados_pessoais` que peça ao usuário os seguintes campos com dados pessoais:\n",
    "1. Nome completo;\n",
    "2. Gênero;\n",
    "3. CPF;\n",
    "4. Endereço\n",
    "5. Idade\n",
    "\n",
    "\n",
    "Os dados digitados devem ser retornados pela função na forma de um **dicionário Python** (return). Lembrem da estrutura de dados do tipo dicionário. Atenção, se qualquer um dos campos digitados (a qualquer momento) for um _string_ vazio, *o processo deve ser interrompido imediatamente* e a função deve retornar o valor `None`.\n",
    "\n",
    "Um trecho de código Python deve ser escrito para demonstrar que a função efetivamente satisfaz suas especificações. Imprima na tela o resultado."
   ]
  },
  {
   "cell_type": "code",
   "execution_count": null,
   "metadata": {},
   "outputs": [],
   "source": [
    "def dados_pessoais():\n",
    "    nome = (input(\"Insira o Nome Completo: \"))\n",
    "    if not nome:\n",
    "        return None\n",
    "    gen = (input(\"Insira o Gênero: \"))\n",
    "    if not gen:\n",
    "        return None\n",
    "    cpf = (input(\"Insira o CPF: \"))\n",
    "    if not cpf:\n",
    "        return None\n",
    "    end = (input(\"Insira o Endereço: \"))\n",
    "    if not end:\n",
    "        return None\n",
    "    idade = (input(\"Insira a Idade: \"))\n",
    "    if not idade:\n",
    "        return None\n",
    "    \n",
    "    pessoa = {\n",
    "        \"Nome completo\": nome,\n",
    "        \"Gênero\": gen,\n",
    "        \"CPF\": cpf,\n",
    "        \"Endereço\": end,\n",
    "        \"Idade\": idade\n",
    "    }\n",
    "    return pessoa\n",
    "\n",
    "print(dados_pessoais())"
   ]
  },
  {
   "cell_type": "markdown",
   "metadata": {},
   "source": [
    "### 4\n",
    "Escreva uma função chamada `nome_biblio()` que receba um _string_ contendo um nome completo e o retorne na forma de uma referência bibliográfica no estilo \"SOBRENOME, PrimeiraLetraPrimeiroNome, PrimeiraLetraSegundoNome, PrimeiraLetraTerceiroNome e assim por diante\". Por exemplo, se o nome completo fornecido for `Jose Marcelo Almeida Prado Cestari`, o retorno da função deverá ser `CESTARI, J. M. A. P` (último nome todo em maiúsculo e demais primeiras letras dos outros nomes). Considere que todas as entradas de nomes terão o formato do exemplo (nomes completos). O código deve considerar que podem existir nomes de 'diversos tamanhos'.\n",
    "\n",
    "Um trecho de código Python deve ser fornecido para pedir um número arbitrário de nomes completos. Um nome _string_ vazio deverá encerrar a repetição das entradas de nomes (ou seja, se o usuário entrar com um `enter`, o programa deve ser interrompido). Ao final, todos os nomes já convertidos para sua forma bibliográfica deverão ser mostrados na tela."
   ]
  },
  {
   "cell_type": "code",
   "execution_count": null,
   "metadata": {},
   "outputs": [],
   "source": [
    "def nome_biblio(x):\n",
    "    a = x.upper().split()\n",
    "    b = a[-1] + \", \"\n",
    "    for i in range(len(a) - 1):\n",
    "        b += a[i][0] + \". \"\n",
    "    return b[:-1]\n",
    "\n",
    "listanomes = []\n",
    "nome = \"x\"\n",
    "while nome != \"\":\n",
    "    nome = input(\"Insira o nome que deseje normalizar ou tecle enter para sair: \")\n",
    "    if nome != \"\":\n",
    "        listanomes.append(nome_biblio(nome))\n",
    "\n",
    "print(f'{\"; \".join(str(x) for x in listanomes)}')"
   ]
  },
  {
   "cell_type": "markdown",
   "metadata": {},
   "source": [
    "### 5\n",
    "**Escreva uma função** chamada `acerto()` que receba dois parâmetros: uma palavra(sring) e uma letra.\n",
    "Ambos os parâmetros devem ser entrados (informados) pelo usuário via `input`. Pode ser uma entrada (input) para cada parâmetro.\n",
    "\n",
    "O retorno dessa função deverá ser um outro _string_ que identifique (faça imprimir a letra em questão na posição correta da palavra). Por exemplo, \n",
    "1. Entre com a palavra: araraquara\n",
    "2. Entre com a letra: a\n",
    "\n",
    "O resultado deve ser a seguinte impressão na tela: `a_a_a__a_a`\n",
    "\n",
    "Nesse caso a função será chamada com as duas variáveis lidas acima.\n",
    "\n",
    "Algo como `acerto(palavra, letra)`\n",
    "\n",
    "Um trecho de código Python deve ser escrito para demonstrar que a função efetivamente satisfaz suas especificações."
   ]
  },
  {
   "cell_type": "code",
   "execution_count": null,
   "metadata": {},
   "outputs": [],
   "source": [
    "def acerto(a, b):\n",
    "    c = [\"_\"] * len(a.upper())   \n",
    "    for i in range(len(a)):\n",
    "        if b == a[i]:\n",
    "            c[i] = b\n",
    "    print (f'{\"\".join(c)}')\n",
    "    \n",
    "a = input(\"Insira uma palavra: \")\n",
    "b = input(\"Insira uma letra da palavra: \")\n",
    "acerto(a, b)"
   ]
  },
  {
   "cell_type": "markdown",
   "metadata": {},
   "source": [
    "### 6\n",
    "Escreva um trecho de código Python que leia três valores (números inteiros). A leitura pode ser na mesma entrada (separada por espaço, por exemplo) ou em três entradas diferentes (um input para cada número). Os valores deverão ser pedidos até que os mesmos formem um triângulo (faça um loop para que enquanto não formar um triângulo, o programa continua pedindo as entradas). Neste caso, o código deverá mostrar na tela o tipo do triângulo (equilátero, isósceles ou escaleno).\n",
    "\n",
    "**IMPORTANTE** Cuidado para verificar se os 3 números entrados realmente formam um triângulo. Para referência de como identificar um triângulo e seus tipos, utilize as seguintes [instruções](https://wagnergaspar.com/faca-um-algoritmo-que-leia-tres-valores-a-b-e-c-e-verifica-se-eles-formam-um-triangulo-com-fluxograma/).\n",
    "\n",
    "**Dica**: você pode criar uma função que retorna se um trio de valores informados define um triângulo ou não, e assim pode usar na condição do seu _loop_. Por exemplo, se retornar true, pode formar triângulo. "
   ]
  },
  {
   "cell_type": "code",
   "execution_count": null,
   "metadata": {},
   "outputs": [],
   "source": [
    "l1 = float(input(\"Insira o valor do primeiro lado do triângulo (use ponto para separar decimais): \"))\n",
    "l2 = float(input(\"Insira o valor do segundo lado do triângulo (use ponto para separar decimais): \"))\n",
    "l3 = float(input(\"Insira o valor do terceiro lado do triângulo (use ponto para separar decimais): \"))\n",
    "\n",
    "if l1 + l2 < l3 or l2 + l3 < l1 or l1 + l3 < l2:\n",
    "    print(\"O triângulo não existe!\")\n",
    "elif l1 == l2 and l2 == l3:\n",
    "    print(\"O triângulo é equilátero!\")\n",
    "elif l1 == l2 or l2 == l3 or l1 == l3:\n",
    "    print(\"O triângulo é isóceles!\")\n",
    "else:\n",
    "    print(\"O triângulo é escaleno!\")"
   ]
  },
  {
   "cell_type": "markdown",
   "metadata": {},
   "source": [
    "### 7\n",
    "Escreva uma função chamada `soma_mat()` que recebe duas matrizes e retorna a soma matricial. Considere que as matrizes sempre serão quadradas. Ou seja, 2x2, 3x3, 4x4 e assim sucessivamente.\n",
    "\n",
    "Você pode fazer de diversas formas (por exemplo):\n",
    "1. O usuário entra com o tamanho das matrizes = tam = input (\"Entre com o tamanho da matriz quadrada: \")\n",
    "2. O usuário entra com os valores das matrizes A e B iniciais;\n",
    "3. Você gera de forma aleatória os valores das matrizes A e B iniciais.\n",
    "\n",
    "Você **não pode** definir \"hard code\" a lista com os valores das matrizes. \n",
    "\n",
    "Para referência de como executar a soma de matrizes, utilize o seguinte link (caso queira): https://brasilescola.uol.com.br/matematica/adicao-subtracao-matrizes.htm#:~:text=E%20o%20resultado%20dessa%20soma,%2B%20b11%20%3D%20c11\n",
    "\n",
    "Um trecho de código Python deve ser escrito para demonstrar que a função efetivamente satisfaz suas especificações.\n",
    "\n",
    "Há várias formas de realizar tal operação. Lembrem-se que para percorrer as matrizes em suas linhas e colunas, vocês precisão (provavelmente) de duas estruturas de repetição (uma encadeada com outra). Dica: use dois 'for'.\n",
    "\n",
    "Imprima as matrizes na tela.\n",
    "\n",
    "Dicas:\n",
    "- Deem uma olhada aqui (fiquei bonzinho): https://www.programiz.com/python-programming/matrix"
   ]
  },
  {
   "cell_type": "code",
   "execution_count": null,
   "metadata": {},
   "outputs": [],
   "source": [
    "import numpy as np\n",
    "\n",
    "t = int(input(\"Insira aqui o tamanho das matrizes quadradas: \"))\n",
    "ma = []\n",
    "mb = []\n",
    "\n",
    "print(\"Insira os valores da matriz A: \")\n",
    "for i in range(1, t+1):\n",
    "    l = []\n",
    "    for j in range(1, t+1):\n",
    "        n = int(input(f\"Valor na linha {i} e coluna {j}: \"))\n",
    "        l.append(n)           \n",
    "    ma.append(l)\n",
    "\n",
    "print(\"Insira os valores da matriz B: \")\n",
    "for i in range(1, t+1):\n",
    "    l = []\n",
    "    for j in range(1, t+1):\n",
    "        n = int(input(f\"Valor na linha {i} e coluna {j}: \"))\n",
    "        l.append(n)           \n",
    "    mb.append(l)\n",
    "\n",
    "def soma_mat(a, b):\n",
    "    c = np.array(a) + np.array(b)\n",
    "    return print(f'A soma das matrizes é:\\n{c}')\n",
    "\n",
    "soma_mat(ma,mb)"
   ]
  }
 ],
 "metadata": {
  "kernelspec": {
   "display_name": "Python 3.10.2 64-bit",
   "language": "python",
   "name": "python3"
  },
  "language_info": {
   "codemirror_mode": {
    "name": "ipython",
    "version": 3
   },
   "file_extension": ".py",
   "mimetype": "text/x-python",
   "name": "python",
   "nbconvert_exporter": "python",
   "pygments_lexer": "ipython3",
   "version": "3.10.2"
  },
  "vscode": {
   "interpreter": {
    "hash": "173ae74ecd759d33659dc89cc0ace91dba90ddaa088b7a848a7f37d845ddcc5d"
   }
  }
 },
 "nbformat": 4,
 "nbformat_minor": 5
}
